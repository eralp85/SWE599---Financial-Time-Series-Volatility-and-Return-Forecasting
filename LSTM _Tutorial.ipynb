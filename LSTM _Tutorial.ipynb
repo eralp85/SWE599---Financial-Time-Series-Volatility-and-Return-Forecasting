{
 "cells": [
  {
   "cell_type": "code",
   "execution_count": 85,
   "metadata": {
    "collapsed": true,
    "pycharm": {
     "name": "#%%\n"
    }
   },
   "outputs": [
    {
     "data": {
      "text/plain": "[<matplotlib.lines.Line2D at 0x13bd554bb20>]"
     },
     "execution_count": 85,
     "metadata": {},
     "output_type": "execute_result"
    },
    {
     "data": {
      "text/plain": "<Figure size 432x288 with 1 Axes>",
      "image/png": "[encoded data removed]"
     },
     "metadata": {
      "needs_background": "light"
     },
     "output_type": "display_data"
    }
   ],
   "source": [
    "import numpy as np\n",
    "import matplotlib.pyplot as plt\n",
    "import pandas as pd\n",
    "\n",
    "import torch\n",
    "import torch.nn as nn\n",
    "\n",
    "#Importing the dataset\n",
    "\n",
    "akbank_data = pd.read_csv(\"C:\\\\Users\\\\ERALP\\\\OneDrive\\\\Desktop\\\\Software Engineering\\\\SWE599---Financial-Time-Series-Volatility-and-Return-Forecasting\\\\Code\\\\akbank_data.csv\")\n",
    "\n",
    "\n",
    "akbank_data['Datetime'] = pd.to_datetime(akbank_data['Date'] + \" \" + akbank_data['Hour'])\n",
    "akbank_data.set_index('Datetime')\n",
    "akbank_data.drop(['Date', 'Hour'], axis=1, inplace=True)\n",
    "akbank_data = akbank_data[['Datetime','Close',]]\n",
    "\n",
    "plt.plot(akbank_data['Datetime'], akbank_data['Close'])\n",
    "\n"
   ]
  },
  {
   "cell_type": "code",
   "execution_count": 86,
   "outputs": [
    {
     "data": {
      "text/plain": "'cuda:0'"
     },
     "execution_count": 86,
     "metadata": {},
     "output_type": "execute_result"
    }
   ],
   "source": [
    "device = 'cuda:0' if torch.cuda.is_available() else 'cpu'\n",
    "device\n"
   ],
   "metadata": {
    "collapsed": false,
    "pycharm": {
     "name": "#%%\n"
    }
   }
  },
  {
   "cell_type": "code",
   "execution_count": 87,
   "outputs": [
    {
     "data": {
      "text/plain": "                     Close  Close(t-1)  Close(t-2)  Close(t-3)  Close(t-4)  \\\nDatetime                                                                     \n2019-02-13 09:00:00   6.45        6.40        6.40        6.39        6.43   \n2019-02-13 10:00:00   6.39        6.45        6.40        6.40        6.39   \n2019-02-13 11:00:00   6.32        6.39        6.45        6.40        6.40   \n2019-02-13 12:00:00   6.32        6.32        6.39        6.45        6.40   \n2019-02-13 13:00:00   6.30        6.32        6.32        6.39        6.45   \n...                    ...         ...         ...         ...         ...   \n2023-02-21 17:00:00  15.92       16.12       16.10       16.05       16.05   \n2023-02-21 18:00:00  15.90       15.92       16.12       16.10       16.05   \n2023-02-22 09:00:00  15.89       15.90       15.92       16.12       16.10   \n2023-02-22 10:00:00  16.13       15.89       15.90       15.92       16.12   \n2023-02-22 11:00:00  16.17       16.13       15.89       15.90       15.92   \n\n                     Close(t-5)  Close(t-6)  Close(t-7)  Close(t-8)  \\\nDatetime                                                              \n2019-02-13 09:00:00        6.39        6.49        6.48        6.57   \n2019-02-13 10:00:00        6.43        6.39        6.49        6.48   \n2019-02-13 11:00:00        6.39        6.43        6.39        6.49   \n2019-02-13 12:00:00        6.40        6.39        6.43        6.39   \n2019-02-13 13:00:00        6.40        6.40        6.39        6.43   \n...                         ...         ...         ...         ...   \n2023-02-21 17:00:00       16.07       16.02       16.16       15.94   \n2023-02-21 18:00:00       16.05       16.07       16.02       16.16   \n2023-02-22 09:00:00       16.05       16.05       16.07       16.02   \n2023-02-22 10:00:00       16.10       16.05       16.05       16.07   \n2023-02-22 11:00:00       16.12       16.10       16.05       16.05   \n\n                     Close(t-9)  Close(t-10)  \nDatetime                                      \n2019-02-13 09:00:00        6.52         6.57  \n2019-02-13 10:00:00        6.57         6.52  \n2019-02-13 11:00:00        6.48         6.57  \n2019-02-13 12:00:00        6.49         6.48  \n2019-02-13 13:00:00        6.39         6.49  \n...                         ...          ...  \n2023-02-21 17:00:00       15.99        15.99  \n2023-02-21 18:00:00       15.94        15.99  \n2023-02-22 09:00:00       16.16        15.94  \n2023-02-22 10:00:00       16.02        16.16  \n2023-02-22 11:00:00       16.07        16.02  \n\n[9982 rows x 11 columns]",
      "text/html": "<div>\n<style scoped>\n    .dataframe tbody tr th:only-of-type {\n        vertical-align: middle;\n    }\n\n    .dataframe tbody tr th {\n        vertical-align: top;\n    }\n\n    .dataframe thead th {\n        text-align: right;\n    }\n</style>\n<table border=\"1\" class=\"dataframe\">\n  <thead>\n    <tr style=\"text-align: right;\">\n      <th></th>\n      <th>Close</th>\n      <th>Close(t-1)</th>\n      <th>Close(t-2)</th>\n      <th>Close(t-3)</th>\n      <th>Close(t-4)</th>\n      <th>Close(t-5)</th>\n      <th>Close(t-6)</th>\n      <th>Close(t-7)</th>\n      <th>Close(t-8)</th>\n      <th>Close(t-9)</th>\n      <th>Close(t-10)</th>\n    </tr>\n    <tr>\n      <th>Datetime</th>\n      <th></th>\n      <th></th>\n      <th></th>\n      <th></th>\n      <th></th>\n      <th></th>\n      <th></th>\n      <th></th>\n      <th></th>\n      <th></th>\n      <th></th>\n    </tr>\n  </thead>\n  <tbody>\n    <tr>\n      <th>2019-02-13 09:00:00</th>\n      <td>6.45</td>\n      <td>6.40</td>\n      <td>6.40</td>\n      <td>6.39</td>\n      <td>6.43</td>\n      <td>6.39</td>\n      <td>6.49</td>\n      <td>6.48</td>\n      <td>6.57</td>\n      <td>6.52</td>\n      <td>6.57</td>\n    </tr>\n    <tr>\n      <th>2019-02-13 10:00:00</th>\n      <td>6.39</td>\n      <td>6.45</td>\n      <td>6.40</td>\n      <td>6.40</td>\n      <td>6.39</td>\n      <td>6.43</td>\n      <td>6.39</td>\n      <td>6.49</td>\n      <td>6.48</td>\n      <td>6.57</td>\n      <td>6.52</td>\n    </tr>\n    <tr>\n      <th>2019-02-13 11:00:00</th>\n      <td>6.32</td>\n      <td>6.39</td>\n      <td>6.45</td>\n      <td>6.40</td>\n      <td>6.40</td>\n      <td>6.39</td>\n      <td>6.43</td>\n      <td>6.39</td>\n      <td>6.49</td>\n      <td>6.48</td>\n      <td>6.57</td>\n    </tr>\n    <tr>\n      <th>2019-02-13 12:00:00</th>\n      <td>6.32</td>\n      <td>6.32</td>\n      <td>6.39</td>\n      <td>6.45</td>\n      <td>6.40</td>\n      <td>6.40</td>\n      <td>6.39</td>\n      <td>6.43</td>\n      <td>6.39</td>\n      <td>6.49</td>\n      <td>6.48</td>\n    </tr>\n    <tr>\n      <th>2019-02-13 13:00:00</th>\n      <td>6.30</td>\n      <td>6.32</td>\n      <td>6.32</td>\n      <td>6.39</td>\n      <td>6.45</td>\n      <td>6.40</td>\n      <td>6.40</td>\n      <td>6.39</td>\n      <td>6.43</td>\n      <td>6.39</td>\n      <td>6.49</td>\n    </tr>\n    <tr>\n      <th>...</th>\n      <td>...</td>\n      <td>...</td>\n      <td>...</td>\n      <td>...</td>\n      <td>...</td>\n      <td>...</td>\n      <td>...</td>\n      <td>...</td>\n      <td>...</td>\n      <td>...</td>\n      <td>...</td>\n    </tr>\n    <tr>\n      <th>2023-02-21 17:00:00</th>\n      <td>15.92</td>\n      <td>16.12</td>\n      <td>16.10</td>\n      <td>16.05</td>\n      <td>16.05</td>\n      <td>16.07</td>\n      <td>16.02</td>\n      <td>16.16</td>\n      <td>15.94</td>\n      <td>15.99</td>\n      <td>15.99</td>\n    </tr>\n    <tr>\n      <th>2023-02-21 18:00:00</th>\n      <td>15.90</td>\n      <td>15.92</td>\n      <td>16.12</td>\n      <td>16.10</td>\n      <td>16.05</td>\n      <td>16.05</td>\n      <td>16.07</td>\n      <td>16.02</td>\n      <td>16.16</td>\n      <td>15.94</td>\n      <td>15.99</td>\n    </tr>\n    <tr>\n      <th>2023-02-22 09:00:00</th>\n      <td>15.89</td>\n      <td>15.90</td>\n      <td>15.92</td>\n      <td>16.12</td>\n      <td>16.10</td>\n      <td>16.05</td>\n      <td>16.05</td>\n      <td>16.07</td>\n      <td>16.02</td>\n      <td>16.16</td>\n      <td>15.94</td>\n    </tr>\n    <tr>\n      <th>2023-02-22 10:00:00</th>\n      <td>16.13</td>\n      <td>15.89</td>\n      <td>15.90</td>\n      <td>15.92</td>\n      <td>16.12</td>\n      <td>16.10</td>\n      <td>16.05</td>\n      <td>16.05</td>\n      <td>16.07</td>\n      <td>16.02</td>\n      <td>16.16</td>\n    </tr>\n    <tr>\n      <th>2023-02-22 11:00:00</th>\n      <td>16.17</td>\n      <td>16.13</td>\n      <td>15.89</td>\n      <td>15.90</td>\n      <td>15.92</td>\n      <td>16.12</td>\n      <td>16.10</td>\n      <td>16.05</td>\n      <td>16.05</td>\n      <td>16.07</td>\n      <td>16.02</td>\n    </tr>\n  </tbody>\n</table>\n<p>9982 rows × 11 columns</p>\n</div>"
     },
     "execution_count": 87,
     "metadata": {},
     "output_type": "execute_result"
    }
   ],
   "source": [
    "from copy import deepcopy as dc\n",
    "\n",
    "def prepare_dataframe_for_lstm(df, n_steps):\n",
    "    df = dc(df)\n",
    "\n",
    "    df.set_index('Datetime', inplace=True)\n",
    "\n",
    "    for i in range(1, n_steps+1):\n",
    "        df[f'Close(t-{i})'] = df['Close'].shift(i)\n",
    "\n",
    "    df.dropna(inplace=True)\n",
    "\n",
    "    return df\n",
    "\n",
    "lookback = 10\n",
    "shifted_df = prepare_dataframe_for_lstm(akbank_data, lookback)\n",
    "shifted_df"
   ],
   "metadata": {
    "collapsed": false,
    "pycharm": {
     "name": "#%%\n"
    }
   }
  },
  {
   "cell_type": "code",
   "execution_count": 88,
   "outputs": [
    {
     "data": {
      "text/plain": "array([[ 6.45,  6.4 ,  6.4 , ...,  6.57,  6.52,  6.57],\n       [ 6.39,  6.45,  6.4 , ...,  6.48,  6.57,  6.52],\n       [ 6.32,  6.39,  6.45, ...,  6.49,  6.48,  6.57],\n       ...,\n       [15.89, 15.9 , 15.92, ..., 16.02, 16.16, 15.94],\n       [16.13, 15.89, 15.9 , ..., 16.07, 16.02, 16.16],\n       [16.17, 16.13, 15.89, ..., 16.05, 16.07, 16.02]])"
     },
     "execution_count": 88,
     "metadata": {},
     "output_type": "execute_result"
    }
   ],
   "source": [
    "shifted_df_as_np = shifted_df.to_numpy()\n",
    "shifted_df_as_np"
   ],
   "metadata": {
    "collapsed": false,
    "pycharm": {
     "name": "#%%\n"
    }
   }
  },
  {
   "cell_type": "code",
   "execution_count": 89,
   "outputs": [
    {
     "data": {
      "text/plain": "(9982, 11)"
     },
     "execution_count": 89,
     "metadata": {},
     "output_type": "execute_result"
    }
   ],
   "source": [
    "shifted_df_as_np.shape"
   ],
   "metadata": {
    "collapsed": false,
    "pycharm": {
     "name": "#%%\n"
    }
   }
  },
  {
   "cell_type": "code",
   "execution_count": 90,
   "outputs": [
    {
     "data": {
      "text/plain": "array([[-0.74325135, -0.74925015, -0.74925015, ..., -0.72885423,\n        -0.73485303, -0.72885423],\n       [-0.75044991, -0.74325135, -0.74925015, ..., -0.73965207,\n        -0.72885423, -0.73485303],\n       [-0.75884823, -0.75044991, -0.74325135, ..., -0.73845231,\n        -0.73965207, -0.72885423],\n       ...,\n       [ 0.38932214,  0.3905219 ,  0.39292142, ...,  0.40491902,\n         0.42171566,  0.39532094],\n       [ 0.41811638,  0.38932214,  0.3905219 , ...,  0.41091782,\n         0.40491902,  0.42171566],\n       [ 0.42291542,  0.41811638,  0.38932214, ...,  0.4085183 ,\n         0.41091782,  0.40491902]])"
     },
     "execution_count": 90,
     "metadata": {},
     "output_type": "execute_result"
    }
   ],
   "source": [
    "from sklearn.preprocessing import MinMaxScaler\n",
    "\n",
    "scaler = MinMaxScaler(feature_range=(-1, 1))\n",
    "shifted_df_as_np= scaler.fit_transform(shifted_df_as_np)\n",
    "\n",
    "shifted_df_as_np"
   ],
   "metadata": {
    "collapsed": false,
    "pycharm": {
     "name": "#%%\n"
    }
   }
  },
  {
   "cell_type": "code",
   "execution_count": 91,
   "outputs": [
    {
     "data": {
      "text/plain": "((9982, 10), (9982,))"
     },
     "execution_count": 91,
     "metadata": {},
     "output_type": "execute_result"
    }
   ],
   "source": [
    "X = shifted_df_as_np[:, 1:]\n",
    "y = shifted_df_as_np[:, 0]\n",
    "\n",
    "X.shape, y.shape"
   ],
   "metadata": {
    "collapsed": false,
    "pycharm": {
     "name": "#%%\n"
    }
   }
  },
  {
   "cell_type": "code",
   "execution_count": 92,
   "outputs": [
    {
     "data": {
      "text/plain": "array([[-0.72885423, -0.73485303, -0.72885423, ..., -0.75044991,\n        -0.74925015, -0.74925015],\n       [-0.73485303, -0.72885423, -0.73965207, ..., -0.74925015,\n        -0.74925015, -0.74325135],\n       [-0.72885423, -0.73965207, -0.73845231, ..., -0.74925015,\n        -0.74325135, -0.75044991],\n       ...,\n       [ 0.39532094,  0.42171566,  0.40491902, ...,  0.41691662,\n         0.39292142,  0.3905219 ],\n       [ 0.42171566,  0.40491902,  0.41091782, ...,  0.39292142,\n         0.3905219 ,  0.38932214],\n       [ 0.40491902,  0.41091782,  0.4085183 , ...,  0.3905219 ,\n         0.38932214,  0.41811638]])"
     },
     "execution_count": 92,
     "metadata": {},
     "output_type": "execute_result"
    }
   ],
   "source": [
    "X = dc(np.flip(X, axis=1))\n",
    "X"
   ],
   "metadata": {
    "collapsed": false,
    "pycharm": {
     "name": "#%%\n"
    }
   }
  },
  {
   "cell_type": "code",
   "execution_count": 93,
   "outputs": [
    {
     "data": {
      "text/plain": "7985"
     },
     "execution_count": 93,
     "metadata": {},
     "output_type": "execute_result"
    }
   ],
   "source": [
    "split_index = int(len(X) * 0.8)\n",
    "split_index"
   ],
   "metadata": {
    "collapsed": false,
    "pycharm": {
     "name": "#%%\n"
    }
   }
  },
  {
   "cell_type": "code",
   "execution_count": 94,
   "outputs": [
    {
     "data": {
      "text/plain": "((7985, 10), (1997, 10), (7985,), (1997,))"
     },
     "execution_count": 94,
     "metadata": {},
     "output_type": "execute_result"
    }
   ],
   "source": [
    "X_train = X[:split_index]\n",
    "X_test = X[split_index:]\n",
    "\n",
    "y_train = y[:split_index]\n",
    "y_test = y[split_index:]\n",
    "\n",
    "X_train.shape, X_test.shape, y_train.shape, y_test.shape"
   ],
   "metadata": {
    "collapsed": false,
    "pycharm": {
     "name": "#%%\n"
    }
   }
  },
  {
   "cell_type": "code",
   "execution_count": 95,
   "outputs": [
    {
     "data": {
      "text/plain": "((7985, 10, 1), (1997, 10, 1), (7985, 1), (1997, 1))"
     },
     "execution_count": 95,
     "metadata": {},
     "output_type": "execute_result"
    }
   ],
   "source": [
    "X_train = X_train.reshape((-1, lookback, 1))\n",
    "X_test = X_test.reshape((-1, lookback, 1))\n",
    "\n",
    "y_train = y_train.reshape((-1, 1))\n",
    "y_test = y_test.reshape((-1, 1))\n",
    "\n",
    "X_train.shape, X_test.shape, y_train.shape, y_test.shape"
   ],
   "metadata": {
    "collapsed": false,
    "pycharm": {
     "name": "#%%\n"
    }
   }
  },
  {
   "cell_type": "code",
   "execution_count": 96,
   "outputs": [
    {
     "data": {
      "text/plain": "(torch.Size([7985, 10, 1]),\n torch.Size([1997, 10, 1]),\n torch.Size([7985, 1]),\n torch.Size([1997, 1]))"
     },
     "execution_count": 96,
     "metadata": {},
     "output_type": "execute_result"
    }
   ],
   "source": [
    "X_train = torch.tensor(X_train).float()\n",
    "y_train = torch.tensor(y_train).float()\n",
    "X_test = torch.tensor(X_test).float()\n",
    "y_test = torch.tensor(y_test).float()\n",
    "\n",
    "X_train.shape, X_test.shape, y_train.shape, y_test.shape"
   ],
   "metadata": {
    "collapsed": false,
    "pycharm": {
     "name": "#%%\n"
    }
   }
  },
  {
   "cell_type": "code",
   "execution_count": 97,
   "outputs": [],
   "source": [
    "from torch.utils.data import Dataset\n",
    "\n",
    "class TimeSeriesDataset(Dataset):\n",
    "    def __init__(self, X, y):\n",
    "        self.X = X\n",
    "        self.y = y\n",
    "\n",
    "    def __len__(self):\n",
    "        return len(self.X)\n",
    "\n",
    "    def __getitem__(self, i):\n",
    "        return self.X[i], self.y[i]\n",
    "\n",
    "train_dataset = TimeSeriesDataset(X_train, y_train)\n",
    "test_dataset = TimeSeriesDataset(X_test, y_test)"
   ],
   "metadata": {
    "collapsed": false,
    "pycharm": {
     "name": "#%%\n"
    }
   }
  },
  {
   "cell_type": "code",
   "execution_count": 98,
   "outputs": [
    {
     "data": {
      "text/plain": "<__main__.TimeSeriesDataset at 0x13bd52f8fd0>"
     },
     "execution_count": 98,
     "metadata": {},
     "output_type": "execute_result"
    }
   ],
   "source": [
    "train_dataset\n"
   ],
   "metadata": {
    "collapsed": false,
    "pycharm": {
     "name": "#%%\n"
    }
   }
  },
  {
   "cell_type": "code",
   "execution_count": 99,
   "outputs": [],
   "source": [
    "from torch.utils.data import DataLoader\n",
    "\n",
    "batch_size = 16\n",
    "\n",
    "train_loader = DataLoader(train_dataset, batch_size=batch_size, shuffle=True)\n",
    "test_loader = DataLoader(test_dataset, batch_size=batch_size, shuffle=False)\n"
   ],
   "metadata": {
    "collapsed": false,
    "pycharm": {
     "name": "#%%\n"
    }
   }
  },
  {
   "cell_type": "code",
   "execution_count": 100,
   "outputs": [
    {
     "name": "stdout",
     "output_type": "stream",
     "text": [
      "torch.Size([16, 10, 1]) torch.Size([16, 1])\n"
     ]
    }
   ],
   "source": [
    "for _, batch in enumerate(train_loader):\n",
    "    x_batch, y_batch = batch[0].to(device), batch[1].to(device)\n",
    "    print(x_batch.shape, y_batch.shape)\n",
    "    break"
   ],
   "metadata": {
    "collapsed": false,
    "pycharm": {
     "name": "#%%\n"
    }
   }
  },
  {
   "cell_type": "code",
   "execution_count": 101,
   "outputs": [
    {
     "data": {
      "text/plain": "LSTM(\n  (lstm): LSTM(1, 4, batch_first=True)\n  (fc): Linear(in_features=4, out_features=1, bias=True)\n)"
     },
     "execution_count": 101,
     "metadata": {},
     "output_type": "execute_result"
    }
   ],
   "source": [
    "class LSTM(nn.Module):\n",
    "    def __init__(self, input_size, hidden_size, num_stacked_layers):\n",
    "        super().__init__()\n",
    "        self.hidden_size = hidden_size\n",
    "        self.num_stacked_layers = num_stacked_layers\n",
    "\n",
    "        self.lstm = nn.LSTM(input_size, hidden_size, num_stacked_layers, batch_first=True)\n",
    "\n",
    "        self.fc = nn.Linear(hidden_size, 1)\n",
    "\n",
    "    def forward(self, x):\n",
    "        batch_size = x.size(0)\n",
    "        h0 = torch.zeros(self.num_stacked_layers, batch_size, self.hidden_size).to(device)\n",
    "        c0 = torch.zeros(self.num_stacked_layers, batch_size, self.hidden_size).to(device)\n",
    "\n",
    "        out, _ = self.lstm(x, (h0, c0))\n",
    "        out = self.fc(out[:, -1, :])\n",
    "        return out\n",
    "\n",
    "model = LSTM(1, 4, 1)\n",
    "model.to(device)\n",
    "model"
   ],
   "metadata": {
    "collapsed": false,
    "pycharm": {
     "name": "#%%\n"
    }
   }
  },
  {
   "cell_type": "code",
   "execution_count": 101,
   "outputs": [],
   "source": [],
   "metadata": {
    "collapsed": false,
    "pycharm": {
     "name": "#%%\n"
    }
   }
  },
  {
   "cell_type": "code",
   "execution_count": 102,
   "outputs": [],
   "source": [
    "def train_one_epoch():\n",
    "    model.train(True)\n",
    "    print(f'Epoch: {epoch + 1}')\n",
    "    running_loss = 0.0\n",
    "\n",
    "    for batch_index, batch in enumerate(train_loader):\n",
    "        x_batch, y_batch = batch[0].to(device), batch[1].to(device)\n",
    "\n",
    "        output = model(x_batch)\n",
    "        loss = loss_function(output, y_batch)\n",
    "        running_loss += loss.item()\n",
    "\n",
    "        optimizer.zero_grad()\n",
    "        loss.backward()\n",
    "        optimizer.step()\n",
    "\n",
    "        if batch_index % 100 == 99:  # print every 100 batches\n",
    "            avg_loss_across_batches = running_loss / 100\n",
    "            print('Batch {0}, Loss: {1:.3f}'.format(batch_index+1,\n",
    "                                                    avg_loss_across_batches))\n",
    "            running_loss = 0.0\n",
    "    print()"
   ],
   "metadata": {
    "collapsed": false,
    "pycharm": {
     "name": "#%%\n"
    }
   }
  },
  {
   "cell_type": "code",
   "execution_count": 103,
   "outputs": [],
   "source": [
    "def validate_one_epoch():\n",
    "    model.train(False)\n",
    "    running_loss = 0.0\n",
    "\n",
    "    for batch_index, batch in enumerate(test_loader):\n",
    "        x_batch, y_batch = batch[0].to(device), batch[1].to(device)\n",
    "\n",
    "        with torch.no_grad():\n",
    "            output = model(x_batch)\n",
    "            loss = loss_function(output, y_batch)\n",
    "            running_loss += loss.item()\n",
    "\n",
    "    avg_loss_across_batches = running_loss / len(test_loader)\n",
    "\n",
    "    print('Val Loss: {0:.3f}'.format(avg_loss_across_batches))\n",
    "    print('***************************************************')\n",
    "    print()"
   ],
   "metadata": {
    "collapsed": false,
    "pycharm": {
     "name": "#%%\n"
    }
   }
  },
  {
   "cell_type": "code",
   "execution_count": 104,
   "outputs": [
    {
     "name": "stdout",
     "output_type": "stream",
     "text": [
      "Epoch: 1\n",
      "Batch 100, Loss: 0.311\n",
      "Batch 200, Loss: 0.061\n",
      "Batch 300, Loss: 0.015\n",
      "Batch 400, Loss: 0.012\n",
      "Batch 500, Loss: 0.012\n",
      "\n",
      "Val Loss: 0.562\n",
      "***************************************************\n",
      "\n",
      "Epoch: 2\n",
      "Batch 100, Loss: 0.012\n",
      "Batch 200, Loss: 0.011\n",
      "Batch 300, Loss: 0.011\n",
      "Batch 400, Loss: 0.010\n",
      "Batch 500, Loss: 0.009\n",
      "\n",
      "Val Loss: 0.445\n",
      "***************************************************\n",
      "\n",
      "Epoch: 3\n",
      "Batch 100, Loss: 0.008\n",
      "Batch 200, Loss: 0.007\n",
      "Batch 300, Loss: 0.005\n",
      "Batch 400, Loss: 0.003\n",
      "Batch 500, Loss: 0.001\n",
      "\n",
      "Val Loss: 0.267\n",
      "***************************************************\n",
      "\n",
      "Epoch: 4\n",
      "Batch 100, Loss: 0.000\n",
      "Batch 200, Loss: 0.000\n",
      "Batch 300, Loss: 0.000\n",
      "Batch 400, Loss: 0.000\n",
      "Batch 500, Loss: 0.000\n",
      "\n",
      "Val Loss: 0.249\n",
      "***************************************************\n",
      "\n",
      "Epoch: 5\n",
      "Batch 100, Loss: 0.000\n",
      "Batch 200, Loss: 0.000\n",
      "Batch 300, Loss: 0.000\n",
      "Batch 400, Loss: 0.000\n",
      "Batch 500, Loss: 0.000\n",
      "\n",
      "Val Loss: 0.247\n",
      "***************************************************\n",
      "\n",
      "Epoch: 6\n",
      "Batch 100, Loss: 0.000\n",
      "Batch 200, Loss: 0.000\n",
      "Batch 300, Loss: 0.000\n",
      "Batch 400, Loss: 0.000\n",
      "Batch 500, Loss: 0.000\n",
      "\n",
      "Val Loss: 0.244\n",
      "***************************************************\n",
      "\n",
      "Epoch: 7\n",
      "Batch 100, Loss: 0.000\n",
      "Batch 200, Loss: 0.000\n",
      "Batch 300, Loss: 0.000\n",
      "Batch 400, Loss: 0.000\n",
      "Batch 500, Loss: 0.000\n",
      "\n",
      "Val Loss: 0.240\n",
      "***************************************************\n",
      "\n",
      "Epoch: 8\n",
      "Batch 100, Loss: 0.000\n",
      "Batch 200, Loss: 0.000\n",
      "Batch 300, Loss: 0.000\n",
      "Batch 400, Loss: 0.000\n",
      "Batch 500, Loss: 0.000\n",
      "\n",
      "Val Loss: 0.235\n",
      "***************************************************\n",
      "\n",
      "Epoch: 9\n",
      "Batch 100, Loss: 0.000\n",
      "Batch 200, Loss: 0.000\n",
      "Batch 300, Loss: 0.000\n",
      "Batch 400, Loss: 0.000\n",
      "Batch 500, Loss: 0.000\n",
      "\n",
      "Val Loss: 0.230\n",
      "***************************************************\n",
      "\n",
      "Epoch: 10\n",
      "Batch 100, Loss: 0.000\n",
      "Batch 200, Loss: 0.000\n",
      "Batch 300, Loss: 0.000\n",
      "Batch 400, Loss: 0.000\n",
      "Batch 500, Loss: 0.000\n",
      "\n",
      "Val Loss: 0.225\n",
      "***************************************************\n",
      "\n"
     ]
    }
   ],
   "source": [
    "learning_rate = 0.001\n",
    "num_epochs = 10\n",
    "loss_function = nn.MSELoss()\n",
    "optimizer = torch.optim.Adam(model.parameters(), lr=learning_rate)\n",
    "\n",
    "for epoch in range(num_epochs):\n",
    "    train_one_epoch()\n",
    "    validate_one_epoch()"
   ],
   "metadata": {
    "collapsed": false,
    "pycharm": {
     "name": "#%%\n"
    }
   }
  },
  {
   "cell_type": "code",
   "execution_count": 105,
   "outputs": [
    {
     "ename": "RuntimeError",
     "evalue": "Numpy is not available",
     "output_type": "error",
     "traceback": [
      "\u001B[1;31m---------------------------------------------------------------------------\u001B[0m",
      "\u001B[1;31mRuntimeError\u001B[0m                              Traceback (most recent call last)",
      "\u001B[1;32m~\\AppData\\Local\\Temp\\ipykernel_25336\\3475938416.py\u001B[0m in \u001B[0;36m<module>\u001B[1;34m\u001B[0m\n\u001B[0;32m      2\u001B[0m \u001B[1;33m\u001B[0m\u001B[0m\n\u001B[0;32m      3\u001B[0m \u001B[1;32mwith\u001B[0m \u001B[0mtorch\u001B[0m\u001B[1;33m.\u001B[0m\u001B[0mno_grad\u001B[0m\u001B[1;33m(\u001B[0m\u001B[1;33m)\u001B[0m\u001B[1;33m:\u001B[0m\u001B[1;33m\u001B[0m\u001B[1;33m\u001B[0m\u001B[0m\n\u001B[1;32m----> 4\u001B[1;33m     \u001B[0mpredicted\u001B[0m \u001B[1;33m=\u001B[0m \u001B[0mmodel\u001B[0m\u001B[1;33m(\u001B[0m\u001B[0mX_train\u001B[0m\u001B[1;33m.\u001B[0m\u001B[0mto\u001B[0m\u001B[1;33m(\u001B[0m\u001B[0mdevice\u001B[0m\u001B[1;33m)\u001B[0m\u001B[1;33m)\u001B[0m\u001B[1;33m.\u001B[0m\u001B[0mto\u001B[0m\u001B[1;33m(\u001B[0m\u001B[1;34m'cpu'\u001B[0m\u001B[1;33m)\u001B[0m\u001B[1;33m.\u001B[0m\u001B[0mnumpy\u001B[0m\u001B[1;33m(\u001B[0m\u001B[1;33m)\u001B[0m\u001B[1;33m\u001B[0m\u001B[1;33m\u001B[0m\u001B[0m\n\u001B[0m\u001B[0;32m      5\u001B[0m \u001B[1;33m\u001B[0m\u001B[0m\n\u001B[0;32m      6\u001B[0m \u001B[0mplt\u001B[0m\u001B[1;33m.\u001B[0m\u001B[0mplot\u001B[0m\u001B[1;33m(\u001B[0m\u001B[0my_train\u001B[0m\u001B[1;33m,\u001B[0m \u001B[0mlabel\u001B[0m\u001B[1;33m=\u001B[0m\u001B[1;34m'Actual Close'\u001B[0m\u001B[1;33m)\u001B[0m\u001B[1;33m\u001B[0m\u001B[1;33m\u001B[0m\u001B[0m\n",
      "\u001B[1;31mRuntimeError\u001B[0m: Numpy is not available"
     ]
    }
   ],
   "source": [
    "import numpy as np\n",
    "\n",
    "with torch.no_grad():\n",
    "    predicted = model(X_train.to(device)).to('cpu').numpy()\n",
    "\n",
    "plt.plot(y_train, label='Actual Close')\n",
    "plt.plot(predicted, label='Predicted Close')\n",
    "plt.xlabel('Day')\n",
    "plt.ylabel('Close')\n",
    "plt.legend()\n",
    "plt.show()"
   ],
   "metadata": {
    "collapsed": false,
    "pycharm": {
     "name": "#%%\n"
    }
   }
  },
  {
   "cell_type": "code",
   "execution_count": null,
   "outputs": [],
   "source": [
    "train_predictions = predicted.flatten()\n",
    "\n",
    "dummies = np.zeros((X_train.shape[0], lookback+1))\n",
    "dummies[:, 0] = train_predictions\n",
    "dummies = scaler.inverse_transform(dummies)\n",
    "\n",
    "train_predictions = dc(dummies[:, 0])\n",
    "train_predictions"
   ],
   "metadata": {
    "collapsed": false,
    "pycharm": {
     "name": "#%%\n"
    }
   }
  },
  {
   "cell_type": "code",
   "execution_count": null,
   "outputs": [],
   "source": [
    "dummies = np.zeros((X_train.shape[0], lookback+1))\n",
    "dummies[:, 0] = y_train.flatten()\n",
    "dummies = scaler.inverse_transform(dummies)\n",
    "\n",
    "new_y_train = dc(dummies[:, 0])\n",
    "new_y_train"
   ],
   "metadata": {
    "collapsed": false,
    "pycharm": {
     "name": "#%%\n"
    }
   }
  },
  {
   "cell_type": "code",
   "execution_count": null,
   "outputs": [],
   "source": [
    "plt.plot(new_y_train, label='Actual Close')\n",
    "plt.plot(train_predictions, label='Predicted Close')\n",
    "plt.xlabel('Day')\n",
    "plt.ylabel('Close')\n",
    "plt.legend()\n",
    "plt.show()"
   ],
   "metadata": {
    "collapsed": false,
    "pycharm": {
     "name": "#%%\n"
    }
   }
  },
  {
   "cell_type": "code",
   "execution_count": null,
   "outputs": [],
   "source": [
    "test_predictions = model(X_test.to(device)).detach().cpu().numpy().flatten()\n",
    "\n",
    "dummies = np.zeros((X_test.shape[0], lookback+1))\n",
    "dummies[:, 0] = test_predictions\n",
    "dummies = scaler.inverse_transform(dummies)\n",
    "\n",
    "test_predictions = dc(dummies[:, 0])\n",
    "test_predictions"
   ],
   "metadata": {
    "collapsed": false,
    "pycharm": {
     "name": "#%%\n"
    }
   }
  },
  {
   "cell_type": "code",
   "execution_count": null,
   "outputs": [],
   "source": [
    "dummies = np.zeros((X_test.shape[0], lookback+1))\n",
    "dummies[:, 0] = y_test.flatten()\n",
    "dummies = scaler.inverse_transform(dummies)\n",
    "\n",
    "new_y_test = dc(dummies[:, 0])\n",
    "new_y_test"
   ],
   "metadata": {
    "collapsed": false,
    "pycharm": {
     "name": "#%%\n"
    }
   }
  },
  {
   "cell_type": "code",
   "execution_count": null,
   "outputs": [],
   "source": [
    "plt.plot(new_y_test, label='Actual Close')\n",
    "plt.plot(test_predictions, label='Predicted Close')\n",
    "plt.xlabel('Day')\n",
    "plt.ylabel('Close')\n",
    "plt.legend()\n",
    "plt.show()"
   ],
   "metadata": {
    "collapsed": false,
    "pycharm": {
     "name": "#%%\n"
    }
   }
  }
 ],
 "metadata": {
  "kernelspec": {
   "display_name": "Python 3",
   "language": "python",
   "name": "python3"
  },
  "language_info": {
   "codemirror_mode": {
    "name": "ipython",
    "version": 2
   },
   "file_extension": ".py",
   "mimetype": "text/x-python",
   "name": "python",
   "nbconvert_exporter": "python",
   "pygments_lexer": "ipython2",
   "version": "2.7.6"
  }
 },
 "nbformat": 4,
 "nbformat_minor": 0
}