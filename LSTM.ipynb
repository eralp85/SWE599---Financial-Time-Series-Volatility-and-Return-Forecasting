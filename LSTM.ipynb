{
 "cells": [
  {
   "cell_type": "code",
   "execution_count": 38,
   "metadata": {
    "collapsed": true,
    "pycharm": {
     "name": "#%%\n"
    }
   },
   "outputs": [
    {
     "name": "stdout",
     "output_type": "stream",
     "text": [
      "Original Data\n",
      "                     Open  High   Low  Close\n",
      "Datetime                                    \n",
      "2019-11-02 11:00:00  6.47  6.59  6.46   6.56\n",
      "2019-11-02 12:00:00  6.57  6.61  6.55   6.56\n",
      "2019-11-02 13:00:00  6.54  6.54  6.54   6.54\n",
      "2019-11-02 14:00:00  6.54  6.57  6.53   6.57\n",
      "2019-11-02 15:00:00  6.57  6.58  6.52   6.56\n",
      "Original Price Data:\n",
      "[[6.47 6.59 6.46 6.56]\n",
      " [6.57 6.61 6.55 6.56]\n",
      " [6.54 6.54 6.54 6.54]\n",
      " [6.54 6.57 6.53 6.57]\n",
      " [6.57 6.58 6.52 6.56]]\n",
      "Scaled Price Data:\n",
      "[[0.12957409 0.1313783  0.13440197 0.13497301]\n",
      " [0.13557289 0.13255132 0.13995068 0.13497301]\n",
      " [0.13377325 0.12844575 0.13933416 0.13377325]\n",
      " [0.13377325 0.13020528 0.13871763 0.13557289]\n",
      " [0.13557289 0.13079179 0.13810111 0.13497301]]\n"
     ]
    }
   ],
   "source": [
    "import numpy as np\n",
    "import pandas as pd\n",
    "import matplotlib.pyplot as plt\n",
    "import seaborn as sns\n",
    "import torch\n",
    "import torch.nn as nn\n",
    "from sklearn.model_selection import train_test_split\n",
    "from sklearn.preprocessing import StandardScaler, MinMaxScaler\n",
    "from sklearn.metrics import mean_squared_error\n",
    "from sklearn.metrics import r2_score\n",
    "from torch.utils.data import Dataset, DataLoader, TensorDataset\n",
    "\n",
    "#Reading the data\n",
    "akbank_data = pd.read_csv(\"C:\\\\Users\\\\ERALP\\\\OneDrive\\\\Desktop\\\\Software Engineering\\\\SWE599---Financial-Time-Series-Volatility-and-Return-Forecasting\\\\Code\\\\akbank_data.csv\")\n",
    "\n",
    "#Selecting the columns that we will use. We will use the Open, High, Low and Close prices to calculate the returns.\n",
    "\n",
    "akbank_data = akbank_data[['Date', 'Hour', 'Open', 'High', 'Low', 'Close']]\n",
    "\n",
    "#Converting Date and Hour to datetime object and setting it as index. This will help us to plot the data in a time series manner.\n",
    "\n",
    "akbank_data['Datetime'] = pd.to_datetime(akbank_data['Date'] + \" \" + akbank_data['Hour'])\n",
    "\n",
    "#Dropping Date and Hour columns\n",
    "akbank_data.set_index('Datetime', inplace=True)\n",
    "akbank_data.drop(['Date', 'Hour'], axis=1, inplace=True)\n",
    "\n",
    "\n",
    "#Creating prices variable to store the Open, High, Low and Close prices in a numpy array. The reason for this is that we will use the prices to calculate the returns.\n",
    "\n",
    "prices = akbank_data[['Open', 'High', 'Low', 'Close']].values\n",
    "\n",
    "# Normalizing the prices between 0 and 1. This will help us to train the model faster. I will be using MinMaxScaler to normalize the prices. Scaling will be between 0 and 1. I am using MinMaxScaler because I would like to keep original distribution of the data and data is not normally distrubuted.\n",
    "\n",
    "scaler = MinMaxScaler(feature_range=(0, 1))\n",
    "scaled_akbank_data = scaler.fit_transform(prices)\n",
    "\n",
    "print(\"Original Data\")\n",
    "print(akbank_data[:5])\n",
    "\n",
    "print(\"Original Price Data:\")\n",
    "print(prices[:5])\n",
    "\n",
    "print(\"Scaled Price Data:\")\n",
    "print(scaled_akbank_data[:5])\n",
    "\n"
   ]
  },
  {
   "cell_type": "code",
   "execution_count": null,
   "outputs": [],
   "source": [],
   "metadata": {
    "collapsed": false,
    "pycharm": {
     "name": "#%%\n"
    }
   }
  }
 ],
 "metadata": {
  "kernelspec": {
   "display_name": "Python 3",
   "language": "python",
   "name": "python3"
  },
  "language_info": {
   "codemirror_mode": {
    "name": "ipython",
    "version": 2
   },
   "file_extension": ".py",
   "mimetype": "text/x-python",
   "name": "python",
   "nbconvert_exporter": "python",
   "pygments_lexer": "ipython2",
   "version": "2.7.6"
  }
 },
 "nbformat": 4,
 "nbformat_minor": 0
}