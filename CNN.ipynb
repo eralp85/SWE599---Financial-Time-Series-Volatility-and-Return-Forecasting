{
 "cells": [
  {
   "cell_type": "code",
   "execution_count": 18,
   "metadata": {
    "collapsed": true,
    "pycharm": {
     "name": "#%%\n"
    }
   },
   "outputs": [
    {
     "name": "stdout",
     "output_type": "stream",
     "text": [
      "torch.Size([7960, 50, 4])\n",
      "torch.Size([1990, 50, 4])\n",
      "torch.Size([7960])\n",
      "torch.Size([1990])\n"
     ]
    }
   ],
   "source": [
    "import numpy as np\n",
    "import matplotlib.pyplot as plt\n",
    "import pandas as pd\n",
    "import torch\n",
    "import torch.nn as nn\n",
    "import torch.optim as optim\n",
    "from sklearn.preprocessing import MinMaxScaler\n",
    "from sklearn.model_selection import train_test_split\n",
    "\n",
    "#Reading data\n",
    "\n",
    "akbank_data = pd.read_csv(\"C:\\\\Users\\\\ERALP\\\\OneDrive\\\\Desktop\\\\Software Engineering\\\\SWE599---Financial-Time-Series-Volatility-and-Return-Forecasting\\\\Code\\\\akbank_data.csv\")\n",
    "\n",
    "\n",
    "akbank_data = akbank_data[['Date', 'Hour', 'Open', 'High', 'Low', 'Close']]\n",
    "\n",
    "#Converting Date and Hour to datetime object and setting it as index. This will help us to plot the data in a time series manner.\n",
    "\n",
    "akbank_data['Datetime'] = pd.to_datetime(akbank_data['Date'] + \" \" + akbank_data['Hour'])\n",
    "\n",
    "#Dropping Date and Hour columns\n",
    "akbank_data.set_index('Datetime', inplace=True)\n",
    "akbank_data.drop(['Date', 'Hour'], axis=1, inplace=True)\n",
    "\n",
    "time_steps = 50\n",
    "\n",
    "def create_sliding_windows(data, time_steps):\n",
    "    X = []\n",
    "    y = []\n",
    "    for i in range(len(data) - time_steps):\n",
    "        X.append(data[i:i + time_steps])\n",
    "        y.append(data[i + time_steps, -1])\n",
    "    return np.array(X), np.array(y)\n",
    "\n",
    "#Normalizing the data\n",
    "scaler = MinMaxScaler()\n",
    "akbank_data_scaled = scaler.fit_transform(akbank_data[['Open', 'High', 'Low', 'Close']])\n",
    "\n",
    "#Creating sliding windows\n",
    "X, y = create_sliding_windows(akbank_data_scaled, time_steps)\n",
    "\n",
    "#Splitting the data into train and test sets\n",
    "X_train, X_test, y_train, y_test = train_test_split(X, y, test_size=0.2, random_state=42)\n",
    "\n",
    "#Converting the data into torch tensors\n",
    "X_train = torch.tensor(X_train).float()\n",
    "X_test = torch.tensor(X_test).float()\n",
    "y_train = torch.tensor(y_train).float()\n",
    "y_test = torch.tensor(y_test).float()\n",
    "\n",
    "#Creating the Convolutional Neural Network model class\n",
    "\n",
    "class StockPricePredictor(nn.Module):\n",
    "    def __init__(self):\n",
    "        super(StockPricePredictor, self).__init__()\n",
    "        self.conv1 = nn.Conv1d(in_channels=4, out_channels=32, kernel_size=3)\n",
    "        self.relu1 = nn.ReLU()\n",
    "        self.pool1 = nn.MaxPool1d(kernel_size=2)\n",
    "        self.conv2 = nn.Conv1d(in_channels=32, out_channels=64, kernel_size=3)\n",
    "        self.relu2 = nn.ReLU()\n",
    "        self.pool2 = nn.MaxPool1d(kernel_size=2)\n",
    "        self.flatten = nn.Flatten()\n",
    "        self.fc1 = nn.Linear(64 * (time_steps - 4), 50)\n",
    "        self.relu3 = nn.ReLU()\n",
    "        self.fc2 = nn.Linear(50, 1)\n",
    "\n",
    "    def forward(self, x):\n",
    "        x=self.pool1(self.relu1(self.conv1(x)))\n",
    "        x=self.pool2(self.relu2(self.conv2(x)))\n",
    "        x=self.flatten(x)\n",
    "        x=self.relu3(self.fc1(x))\n",
    "        x=self.fc2(x)\n",
    "        return x\n",
    "\n",
    "#Creating the model object\n",
    "model = StockPricePredictor()\n",
    "\n",
    "#Defining the loss function and optimizer\n",
    "criterion = nn.MSELoss()\n",
    "optimizer = optim.Adam(model.parameters(), lr=0.001)\n",
    "\n",
    "#Data loader\n",
    "\n",
    "train_dataset = torch.utils.data.TensorDataset(X_train, y_train)\n",
    "test_dataset = torch.utils.data.TensorDataset(X_test, y_test)\n",
    "\n",
    "train_loader = torch.utils.data.DataLoader(train_dataset, batch_size=32, shuffle=True)\n",
    "test_loader = torch.utils.data.DataLoader(test_dataset, batch_size=1, shuffle=False)\n",
    "\n"
   ]
  },
  {
   "cell_type": "code",
   "execution_count": null,
   "outputs": [],
   "source": [],
   "metadata": {
    "collapsed": false,
    "pycharm": {
     "name": "#%%\n"
    }
   }
  }
 ],
 "metadata": {
  "kernelspec": {
   "display_name": "Python 3",
   "language": "python",
   "name": "python3"
  },
  "language_info": {
   "codemirror_mode": {
    "name": "ipython",
    "version": 2
   },
   "file_extension": ".py",
   "mimetype": "text/x-python",
   "name": "python",
   "nbconvert_exporter": "python",
   "pygments_lexer": "ipython2",
   "version": "2.7.6"
  }
 },
 "nbformat": 4,
 "nbformat_minor": 0
}