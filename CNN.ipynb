{
 "cells": [
  {
   "cell_type": "code",
   "execution_count": null,
   "metadata": {
    "collapsed": true,
    "pycharm": {
     "name": "#%%\n",
     "is_executing": true
    }
   },
   "outputs": [],
   "source": [
    "import numpy as np\n",
    "import matplotlib.pyplot as plt\n",
    "import pandas as pd\n",
    "import torch\n",
    "import torch.nn as nn\n",
    "import torch.optim as optim\n",
    "from sklearn.preprocessing import MinMaxScaler\n",
    "from sklearn.model_selection import train_test_split\n",
    "\n",
    "#Reading data\n",
    "\n",
    "akbank_data = pd.read_csv(\"C:\\\\Users\\\\ERALP\\\\OneDrive\\\\Desktop\\\\Software Engineering\\\\SWE599---Financial-Time-Series-Volatility-and-Return-Forecasting\\\\Code\\\\akbank_data.csv\")\n",
    "\n",
    "\n",
    "akbank_data = akbank_data[['Date', 'Hour', 'Open', 'High', 'Low', 'Close']]\n",
    "\n",
    "#Converting Date and Hour to datetime object and setting it as index. This will help us to plot the data in a time series manner.\n",
    "\n",
    "akbank_data['Datetime'] = pd.to_datetime(akbank_data['Date'] + \" \" + akbank_data['Hour'])\n",
    "\n",
    "#Dropping Date and Hour columns\n",
    "akbank_data.set_index('Datetime', inplace=True)\n",
    "akbank_data.drop(['Date', 'Hour'], axis=1, inplace=True)\n",
    "\n",
    "time_steps = 50\n",
    "\n",
    "def create_sliding_windows(data, time_steps):\n",
    "    X = []\n",
    "    y = []\n",
    "    for i in range(len(data) - time_steps):\n",
    "        X.append(data[i:i + time_steps])\n",
    "        y.append(data[i + time_steps, -1])\n",
    "    return np.array(X), np.array(y)\n",
    "\n",
    "#Normalizing the data\n",
    "scaler = MinMaxScaler()\n",
    "akbank_data_scaled = scaler.fit_transform(akbank_data[['Open', 'High', 'Low', 'Close']])\n",
    "\n",
    "#Creating sliding windows\n",
    "X, y = create_sliding_windows(akbank_data_scaled, time_steps)\n",
    "\n",
    "#Splitting the data into train and test sets\n",
    "X_train, X_test, y_train, y_test = train_test_split(X, y, test_size=0.2, random_state=42)\n",
    "\n",
    "#Converting the data into torch tensors\n",
    "X_train = torch.tensor(X_train).float()\n",
    "X_test = torch.tensor(X_test).float()\n",
    "y_train = torch.tensor(y_train).float()\n",
    "y_test = torch.tensor(y_test).float()\n"
   ]
  },
  {
   "cell_type": "code",
   "execution_count": null,
   "outputs": [],
   "source": [],
   "metadata": {
    "collapsed": false,
    "pycharm": {
     "name": "#%%\n"
    }
   }
  }
 ],
 "metadata": {
  "kernelspec": {
   "display_name": "Python 3",
   "language": "python",
   "name": "python3"
  },
  "language_info": {
   "codemirror_mode": {
    "name": "ipython",
    "version": 2
   },
   "file_extension": ".py",
   "mimetype": "text/x-python",
   "name": "python",
   "nbconvert_exporter": "python",
   "pygments_lexer": "ipython2",
   "version": "2.7.6"
  }
 },
 "nbformat": 4,
 "nbformat_minor": 0
}