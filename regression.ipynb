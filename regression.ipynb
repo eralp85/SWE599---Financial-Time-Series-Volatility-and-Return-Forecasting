{
 "cells": [
  {
   "cell_type": "code",
   "execution_count": 4,
   "metadata": {
    "collapsed": true,
    "pycharm": {
     "name": "#%%\n"
    }
   },
   "outputs": [
    {
     "data": {
      "text/plain": "         Date   Open   High    Low  Close  Adj Close    Volume\n0  2010-06-30  5.158  6.084  4.660  4.766      4.766  85935500\n1  2010-07-01  5.000  5.184  4.054  4.392      4.392  41094000\n2  2010-07-02  4.600  4.620  3.742  3.840      3.840  25699000\n3  2010-07-06  4.000  4.000  3.166  3.222      3.222  34334500\n4  2010-07-07  3.280  3.326  2.996  3.160      3.160  34608500",
      "text/html": "<div>\n<style scoped>\n    .dataframe tbody tr th:only-of-type {\n        vertical-align: middle;\n    }\n\n    .dataframe tbody tr th {\n        vertical-align: top;\n    }\n\n    .dataframe thead th {\n        text-align: right;\n    }\n</style>\n<table border=\"1\" class=\"dataframe\">\n  <thead>\n    <tr style=\"text-align: right;\">\n      <th></th>\n      <th>Date</th>\n      <th>Open</th>\n      <th>High</th>\n      <th>Low</th>\n      <th>Close</th>\n      <th>Adj Close</th>\n      <th>Volume</th>\n    </tr>\n  </thead>\n  <tbody>\n    <tr>\n      <th>0</th>\n      <td>2010-06-30</td>\n      <td>5.158</td>\n      <td>6.084</td>\n      <td>4.660</td>\n      <td>4.766</td>\n      <td>4.766</td>\n      <td>85935500</td>\n    </tr>\n    <tr>\n      <th>1</th>\n      <td>2010-07-01</td>\n      <td>5.000</td>\n      <td>5.184</td>\n      <td>4.054</td>\n      <td>4.392</td>\n      <td>4.392</td>\n      <td>41094000</td>\n    </tr>\n    <tr>\n      <th>2</th>\n      <td>2010-07-02</td>\n      <td>4.600</td>\n      <td>4.620</td>\n      <td>3.742</td>\n      <td>3.840</td>\n      <td>3.840</td>\n      <td>25699000</td>\n    </tr>\n    <tr>\n      <th>3</th>\n      <td>2010-07-06</td>\n      <td>4.000</td>\n      <td>4.000</td>\n      <td>3.166</td>\n      <td>3.222</td>\n      <td>3.222</td>\n      <td>34334500</td>\n    </tr>\n    <tr>\n      <th>4</th>\n      <td>2010-07-07</td>\n      <td>3.280</td>\n      <td>3.326</td>\n      <td>2.996</td>\n      <td>3.160</td>\n      <td>3.160</td>\n      <td>34608500</td>\n    </tr>\n  </tbody>\n</table>\n</div>"
     },
     "execution_count": 4,
     "metadata": {},
     "output_type": "execute_result"
    }
   ],
   "source": [
    "# for linear algebra\n",
    "import numpy as np\n",
    "# for data processing\n",
    "import pandas as pd\n",
    "# for plotting\n",
    "import matplotlib.pyplot as plt\n",
    "# for scaling and encoding. Scaling is used to normalize the data within a particular range. Encoding is used to convert categorical data into numeric data.\n",
    "from sklearn import preprocessing\n",
    "# for the check the error and accuracy of the model\n",
    "from sklearn import metrics\n",
    "# for splitting the data into train and test data\n",
    "from sklearn.model_selection import train_test_split\n",
    "# for linear regression model\n",
    "from sklearn.linear_model import LinearRegression\n",
    "\n",
    "\n",
    "#Loading Data\n",
    "data = pd.read_csv('C:\\\\Users\\ERALP\\OneDrive\\Desktop\\Software Engineering\\SWE599---Financial-Time-Series-Volatility-and-Return-Forecasting\\Code\\TSLA.csv')\n",
    "\n",
    "#Seeing Data\n",
    "data.head()\n",
    "\n"
   ]
  },
  {
   "cell_type": "code",
   "execution_count": null,
   "outputs": [],
   "source": [],
   "metadata": {
    "collapsed": false,
    "pycharm": {
     "name": "#%%\n"
    }
   }
  }
 ],
 "metadata": {
  "kernelspec": {
   "display_name": "Python 3",
   "language": "python",
   "name": "python3"
  },
  "language_info": {
   "codemirror_mode": {
    "name": "ipython",
    "version": 2
   },
   "file_extension": ".py",
   "mimetype": "text/x-python",
   "name": "python",
   "nbconvert_exporter": "python",
   "pygments_lexer": "ipython2",
   "version": "2.7.6"
  }
 },
 "nbformat": 4,
 "nbformat_minor": 0
}