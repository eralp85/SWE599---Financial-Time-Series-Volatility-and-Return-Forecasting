{
 "cells": [
  {
   "cell_type": "code",
   "execution_count": 1,
   "metadata": {
    "collapsed": true
   },
   "outputs": [],
   "source": [
    "import numpy as np\n",
    "import pandas as pd\n",
    "from sklearn.preprocessing import MinMaxScaler\n",
    "from keras.models import Sequential\n",
    "from keras.layers import Dense, Dropout, Flatten\n",
    "from keras.layers import Conv1D, MaxPooling1D"
   ]
  },
  {
   "cell_type": "code",
   "execution_count": 2,
   "outputs": [
    {
     "data": {
      "text/plain": "        Date      Hour  Open  High   Low  Close\n0  12/2/2019   9:00:00  6.57  6.57  6.57   6.57\n1  12/2/2019  10:00:00  6.57  6.59  6.51   6.52\n2  12/2/2019  11:00:00  6.52  6.58  6.51   6.57\n3  12/2/2019  12:00:00  6.57  6.57  6.46   6.48\n4  12/2/2019  13:00:00  6.49  6.49  6.49   6.49",
      "text/html": "<div>\n<style scoped>\n    .dataframe tbody tr th:only-of-type {\n        vertical-align: middle;\n    }\n\n    .dataframe tbody tr th {\n        vertical-align: top;\n    }\n\n    .dataframe thead th {\n        text-align: right;\n    }\n</style>\n<table border=\"1\" class=\"dataframe\">\n  <thead>\n    <tr style=\"text-align: right;\">\n      <th></th>\n      <th>Date</th>\n      <th>Hour</th>\n      <th>Open</th>\n      <th>High</th>\n      <th>Low</th>\n      <th>Close</th>\n    </tr>\n  </thead>\n  <tbody>\n    <tr>\n      <th>0</th>\n      <td>12/2/2019</td>\n      <td>9:00:00</td>\n      <td>6.57</td>\n      <td>6.57</td>\n      <td>6.57</td>\n      <td>6.57</td>\n    </tr>\n    <tr>\n      <th>1</th>\n      <td>12/2/2019</td>\n      <td>10:00:00</td>\n      <td>6.57</td>\n      <td>6.59</td>\n      <td>6.51</td>\n      <td>6.52</td>\n    </tr>\n    <tr>\n      <th>2</th>\n      <td>12/2/2019</td>\n      <td>11:00:00</td>\n      <td>6.52</td>\n      <td>6.58</td>\n      <td>6.51</td>\n      <td>6.57</td>\n    </tr>\n    <tr>\n      <th>3</th>\n      <td>12/2/2019</td>\n      <td>12:00:00</td>\n      <td>6.57</td>\n      <td>6.57</td>\n      <td>6.46</td>\n      <td>6.48</td>\n    </tr>\n    <tr>\n      <th>4</th>\n      <td>12/2/2019</td>\n      <td>13:00:00</td>\n      <td>6.49</td>\n      <td>6.49</td>\n      <td>6.49</td>\n      <td>6.49</td>\n    </tr>\n  </tbody>\n</table>\n</div>"
     },
     "execution_count": 2,
     "metadata": {},
     "output_type": "execute_result"
    }
   ],
   "source": [
    "# load data\n",
    "\n",
    "akbank_data = pd.read_csv(\"C:\\\\Users\\\\ERALP\\\\OneDrive\\\\Desktop\\\\Software Engineering\\\\SWE599---Financial-Time-Series-Volatility-and-Return-Forecasting\\\\Code\\\\akbank_data.csv\")\n",
    "\n",
    "akbank_data.head()"
   ],
   "metadata": {
    "collapsed": false
   }
  },
  {
   "cell_type": "code",
   "execution_count": 5,
   "outputs": [
    {
     "data": {
      "text/plain": "                     Open  High   Low  Close\nDatetime                                    \n2019-12-02 09:00:00  6.57  6.57  6.57   6.57\n2019-12-02 10:00:00  6.57  6.59  6.51   6.52\n2019-12-02 11:00:00  6.52  6.58  6.51   6.57\n2019-12-02 12:00:00  6.57  6.57  6.46   6.48\n2019-12-02 13:00:00  6.49  6.49  6.49   6.49",
      "text/html": "<div>\n<style scoped>\n    .dataframe tbody tr th:only-of-type {\n        vertical-align: middle;\n    }\n\n    .dataframe tbody tr th {\n        vertical-align: top;\n    }\n\n    .dataframe thead th {\n        text-align: right;\n    }\n</style>\n<table border=\"1\" class=\"dataframe\">\n  <thead>\n    <tr style=\"text-align: right;\">\n      <th></th>\n      <th>Open</th>\n      <th>High</th>\n      <th>Low</th>\n      <th>Close</th>\n    </tr>\n    <tr>\n      <th>Datetime</th>\n      <th></th>\n      <th></th>\n      <th></th>\n      <th></th>\n    </tr>\n  </thead>\n  <tbody>\n    <tr>\n      <th>2019-12-02 09:00:00</th>\n      <td>6.57</td>\n      <td>6.57</td>\n      <td>6.57</td>\n      <td>6.57</td>\n    </tr>\n    <tr>\n      <th>2019-12-02 10:00:00</th>\n      <td>6.57</td>\n      <td>6.59</td>\n      <td>6.51</td>\n      <td>6.52</td>\n    </tr>\n    <tr>\n      <th>2019-12-02 11:00:00</th>\n      <td>6.52</td>\n      <td>6.58</td>\n      <td>6.51</td>\n      <td>6.57</td>\n    </tr>\n    <tr>\n      <th>2019-12-02 12:00:00</th>\n      <td>6.57</td>\n      <td>6.57</td>\n      <td>6.46</td>\n      <td>6.48</td>\n    </tr>\n    <tr>\n      <th>2019-12-02 13:00:00</th>\n      <td>6.49</td>\n      <td>6.49</td>\n      <td>6.49</td>\n      <td>6.49</td>\n    </tr>\n  </tbody>\n</table>\n</div>"
     },
     "execution_count": 5,
     "metadata": {},
     "output_type": "execute_result"
    }
   ],
   "source": [
    "# Concatane the date and time columns and convert it to datetime format\n",
    "\n",
    "akbank_data['Datetime'] = pd.to_datetime(akbank_data['Date'] + \" \" + akbank_data['Hour'])\n",
    "\n",
    "#Dropping Date and Hour columns\n",
    "akbank_data.set_index('Datetime', inplace=True)\n",
    "akbank_data.drop(['Date', 'Hour'], axis=1, inplace=True)\n",
    "\n",
    "akbank_data.head()"
   ],
   "metadata": {
    "collapsed": false
   }
  },
  {
   "cell_type": "code",
   "execution_count": 6,
   "outputs": [],
   "source": [
    "# Preprocessing the data\n",
    "\n",
    "close_price = akbank_data['Close'].values.reshape(-1,1)\n",
    "\n",
    "# Normalization\n",
    "\n",
    "scaler = MinMaxScaler(feature_range=(0, 1))\n",
    "close_price = scaler.fit_transform(close_price)\n",
    "\n"
   ],
   "metadata": {
    "collapsed": false
   }
  },
  {
   "cell_type": "code",
   "execution_count": 7,
   "outputs": [],
   "source": [
    "# Preparing the data for CNN\n",
    "# 9 trading hours. 5 days. 45 data points for each week.\n",
    "# 1 month traing data = 4 weeks = 180 data points\n",
    "X = []\n",
    "Y = []\n",
    "\n",
    "for i in range(180, len(close_price)):\n",
    "    X.append(close_price[i-180:i, 0])\n",
    "    Y.append(close_price[i, 0])\n",
    "\n",
    "X,Y = np.array(X), np.array(Y)"
   ],
   "metadata": {
    "collapsed": false
   }
  },
  {
   "cell_type": "code",
   "execution_count": 8,
   "outputs": [],
   "source": [
    "# Reshaping the data for CNN\n",
    "\n",
    "X = np.reshape(X, (X.shape[0], X.shape[1], 1))\n",
    "\n"
   ],
   "metadata": {
    "collapsed": false
   }
  },
  {
   "cell_type": "code",
   "execution_count": 9,
   "outputs": [],
   "source": [
    "# Creating the CNN model\n",
    "\n",
    "model = Sequential()\n",
    "model.add(Conv1D(filters=32, kernel_size=5, activation='relu', input_shape=(X.shape[1], 1)))\n",
    "model.add(MaxPooling1D(pool_size=2))\n",
    "model.add(Dropout(0.2))\n",
    "model.add(Flatten())\n",
    "model.add(Dense(64, activation='relu'))\n",
    "model.add(Dense(1))\n",
    "\n",
    "model.compile(optimizer='adam', loss='mse')"
   ],
   "metadata": {
    "collapsed": false
   }
  },
  {
   "cell_type": "code",
   "execution_count": 10,
   "outputs": [
    {
     "name": "stdout",
     "output_type": "stream",
     "text": [
      "Epoch 1/50\n",
      "307/307 [==============================] - 4s 9ms/step - loss: 0.0019\n",
      "Epoch 2/50\n",
      "307/307 [==============================] - 3s 10ms/step - loss: 7.1780e-04\n",
      "Epoch 3/50\n",
      "307/307 [==============================] - 3s 8ms/step - loss: 5.6624e-04\n",
      "Epoch 4/50\n",
      "307/307 [==============================] - 2s 8ms/step - loss: 5.0986e-04\n",
      "Epoch 5/50\n",
      "307/307 [==============================] - 2s 8ms/step - loss: 4.0966e-04\n",
      "Epoch 6/50\n",
      "307/307 [==============================] - 2s 8ms/step - loss: 4.5300e-04\n",
      "Epoch 7/50\n",
      "307/307 [==============================] - 2s 8ms/step - loss: 4.2605e-04\n",
      "Epoch 8/50\n",
      "307/307 [==============================] - 2s 8ms/step - loss: 3.1641e-04\n",
      "Epoch 9/50\n",
      "307/307 [==============================] - 2s 8ms/step - loss: 3.0811e-04\n",
      "Epoch 10/50\n",
      "307/307 [==============================] - 2s 8ms/step - loss: 3.4125e-04\n",
      "Epoch 11/50\n",
      "307/307 [==============================] - 2s 8ms/step - loss: 3.0175e-04\n",
      "Epoch 12/50\n",
      "307/307 [==============================] - 2s 8ms/step - loss: 3.2684e-04\n",
      "Epoch 13/50\n",
      "307/307 [==============================] - 2s 8ms/step - loss: 2.8792e-04\n",
      "Epoch 14/50\n",
      "307/307 [==============================] - 2s 8ms/step - loss: 3.2016e-04\n",
      "Epoch 15/50\n",
      "307/307 [==============================] - 2s 8ms/step - loss: 2.5989e-04\n",
      "Epoch 16/50\n",
      "307/307 [==============================] - 2s 8ms/step - loss: 2.1407e-04\n",
      "Epoch 17/50\n",
      "307/307 [==============================] - 2s 8ms/step - loss: 3.1337e-04\n",
      "Epoch 18/50\n",
      "307/307 [==============================] - 3s 8ms/step - loss: 2.8158e-04\n",
      "Epoch 19/50\n",
      "307/307 [==============================] - 2s 8ms/step - loss: 2.2902e-04\n",
      "Epoch 20/50\n",
      "307/307 [==============================] - 2s 8ms/step - loss: 2.2724e-04\n",
      "Epoch 21/50\n",
      "307/307 [==============================] - 2s 8ms/step - loss: 2.4690e-04\n",
      "Epoch 22/50\n",
      "307/307 [==============================] - 2s 8ms/step - loss: 2.5174e-04\n",
      "Epoch 23/50\n",
      "307/307 [==============================] - 2s 8ms/step - loss: 3.1532e-04\n",
      "Epoch 24/50\n",
      "307/307 [==============================] - 2s 8ms/step - loss: 2.1156e-04\n",
      "Epoch 25/50\n",
      "307/307 [==============================] - 2s 8ms/step - loss: 2.3759e-04\n",
      "Epoch 26/50\n",
      "307/307 [==============================] - 2s 8ms/step - loss: 2.5332e-04\n",
      "Epoch 27/50\n",
      "307/307 [==============================] - 2s 8ms/step - loss: 1.9651e-04\n",
      "Epoch 28/50\n",
      "307/307 [==============================] - 2s 8ms/step - loss: 2.5326e-04\n",
      "Epoch 29/50\n",
      "307/307 [==============================] - 2s 8ms/step - loss: 2.4294e-04\n",
      "Epoch 30/50\n",
      "307/307 [==============================] - 2s 8ms/step - loss: 2.3381e-04\n",
      "Epoch 31/50\n",
      "307/307 [==============================] - 2s 8ms/step - loss: 2.2142e-04\n",
      "Epoch 32/50\n",
      "307/307 [==============================] - 2s 8ms/step - loss: 2.2504e-04\n",
      "Epoch 33/50\n",
      "307/307 [==============================] - 2s 8ms/step - loss: 2.1547e-04\n",
      "Epoch 34/50\n",
      "307/307 [==============================] - 2s 8ms/step - loss: 2.6520e-04\n",
      "Epoch 35/50\n",
      "307/307 [==============================] - 2s 8ms/step - loss: 1.9444e-04\n",
      "Epoch 36/50\n",
      "307/307 [==============================] - 2s 8ms/step - loss: 2.1500e-04\n",
      "Epoch 37/50\n",
      "307/307 [==============================] - 2s 8ms/step - loss: 1.9556e-04\n",
      "Epoch 38/50\n",
      "307/307 [==============================] - 2s 8ms/step - loss: 2.3141e-04\n",
      "Epoch 39/50\n",
      "307/307 [==============================] - 2s 8ms/step - loss: 2.0674e-04\n",
      "Epoch 40/50\n",
      "307/307 [==============================] - 3s 8ms/step - loss: 2.0836e-04\n",
      "Epoch 41/50\n",
      "307/307 [==============================] - 2s 8ms/step - loss: 1.8699e-04\n",
      "Epoch 42/50\n",
      "307/307 [==============================] - 2s 8ms/step - loss: 1.8693e-04\n",
      "Epoch 43/50\n",
      "307/307 [==============================] - 2s 8ms/step - loss: 1.8544e-04\n",
      "Epoch 44/50\n",
      "307/307 [==============================] - 3s 8ms/step - loss: 2.3654e-04\n",
      "Epoch 45/50\n",
      "307/307 [==============================] - 3s 8ms/step - loss: 2.0568e-04\n",
      "Epoch 46/50\n",
      "307/307 [==============================] - 3s 8ms/step - loss: 1.9426e-04\n",
      "Epoch 47/50\n",
      "307/307 [==============================] - 3s 9ms/step - loss: 2.4328e-04\n",
      "Epoch 48/50\n",
      "307/307 [==============================] - 3s 9ms/step - loss: 2.0730e-04\n",
      "Epoch 49/50\n",
      "307/307 [==============================] - 3s 9ms/step - loss: 2.1012e-04\n",
      "Epoch 50/50\n",
      "307/307 [==============================] - 3s 8ms/step - loss: 1.9722e-04\n"
     ]
    },
    {
     "data": {
      "text/plain": "<keras.callbacks.History at 0x2198aec6170>"
     },
     "execution_count": 10,
     "metadata": {},
     "output_type": "execute_result"
    }
   ],
   "source": [
    "# Training the model\n",
    "\n",
    "model.fit(X, Y, epochs=50, batch_size=32)"
   ],
   "metadata": {
    "collapsed": false
   }
  },
  {
   "cell_type": "code",
   "execution_count": 11,
   "outputs": [
    {
     "name": "stdout",
     "output_type": "stream",
     "text": [
      "1/1 [==============================] - 0s 152ms/step\n",
      "[[16.160202]]\n"
     ]
    }
   ],
   "source": [
    "# Predicting the close price for the last 180 data points\n",
    "\n",
    "X_test = close_price[len(close_price)-180:]\n",
    "X_test = np.reshape(X_test, (1, X_test.shape[0], 1))\n",
    "predicted_price = model.predict(X_test)\n",
    "predicted_price = scaler.inverse_transform(predicted_price)\n",
    "print(predicted_price)\n",
    "\n"
   ],
   "metadata": {
    "collapsed": false
   }
  },
  {
   "cell_type": "code",
   "execution_count": 12,
   "outputs": [
    {
     "data": {
      "text/plain": "<Figure size 432x288 with 1 Axes>",
      "image/png": "[encoded data removed]"
     },
     "metadata": {},
     "output_type": "display_data"
    }
   ],
   "source": [
    "# plot the predicted price and the actual price\n",
    "\n",
    "import matplotlib.pyplot as plt2\n",
    "\n",
    "plt2.plot(predicted_price, color='red', label='Predicted Price')\n",
    "plt2.plot(close_price[len(close_price)-180:], color='blue', label='Actual Price')\n",
    "plt2.legend()\n",
    "plt2.show()\n"
   ],
   "metadata": {
    "collapsed": false
   }
  },
  {
   "cell_type": "code",
   "execution_count": null,
   "outputs": [],
   "source": [],
   "metadata": {
    "collapsed": false
   }
  }
 ],
 "metadata": {
  "kernelspec": {
   "display_name": "Python 3",
   "language": "python",
   "name": "python3"
  },
  "language_info": {
   "codemirror_mode": {
    "name": "ipython",
    "version": 2
   },
   "file_extension": ".py",
   "mimetype": "text/x-python",
   "name": "python",
   "nbconvert_exporter": "python",
   "pygments_lexer": "ipython2",
   "version": "2.7.6"
  }
 },
 "nbformat": 4,
 "nbformat_minor": 0
}
